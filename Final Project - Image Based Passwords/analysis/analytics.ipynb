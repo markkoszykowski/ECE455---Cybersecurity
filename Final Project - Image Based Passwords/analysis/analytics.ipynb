{
 "cells": [
  {
   "cell_type": "code",
   "execution_count": null,
   "metadata": {},
   "outputs": [],
   "source": [
    "from IPython.display import display, HTML\n",
    "import matplotlib.pyplot as plt\n",
    "from scipy import signal\n",
    "import pandas as pd\n",
    "import numpy as np\n",
    "import sqlite3\n",
    "import cv2\n",
    "import os"
   ]
  },
  {
   "cell_type": "code",
   "execution_count": null,
   "metadata": {},
   "outputs": [],
   "source": [
    "MASKED_IMAGES_DIR = \"masked_images\"\n",
    "BACKEND_DIR = \"backend\"\n",
    "IMAGES_DIR = \"images\"\n",
    "\n",
    "DB_FILE = \"db.sqlite\"\n",
    "\n",
    "PASSWORD_CHARACTERS = 10 + 52 + 32\n",
    "\"\"\" = (0-9) + (a-z,A-Z) + Special Characters \"\"\"\n",
    "\n",
    "IMAGE_SIZE = 256\n",
    "NUMBER_OF_IMAGES = 2\n",
    "\n",
    "MIN_R = 3\n",
    "MAX_R = 30\n",
    "\n",
    "SAME_POINT_TOLERANCE = 10"
   ]
  },
  {
   "cell_type": "code",
   "execution_count": null,
   "metadata": {},
   "outputs": [],
   "source": [
    "print(F\"Plaintext character size: {PASSWORD_CHARACTERS}\")"
   ]
  },
  {
   "cell_type": "code",
   "execution_count": null,
   "metadata": {},
   "outputs": [],
   "source": [
    "plt.imshow(np.squeeze(cv2.imread(os.path.join(os.curdir, MASKED_IMAGES_DIR, \"83990_no_background.png\"), cv2.IMREAD_UNCHANGED)[:, :, 3]))\n",
    "print(np.squeeze(cv2.imread(os.path.join(os.curdir, MASKED_IMAGES_DIR, \"83990_no_background.png\"), cv2.IMREAD_UNCHANGED)[:, :, 3]))"
   ]
  },
  {
   "cell_type": "code",
   "execution_count": null,
   "metadata": {},
   "outputs": [],
   "source": [
    "image_masks = {}\n",
    "image_attributes = set()\n",
    "for image in os.listdir(os.path.join(os.curdir, MASKED_IMAGES_DIR)):\n",
    "    name = image.split(\".\")[0]\n",
    "    image_masks[name] = np.squeeze(cv2.imread(os.path.join(os.curdir, MASKED_IMAGES_DIR, image), cv2.IMREAD_UNCHANGED)[:, :, 3])\n",
    "    image_masks[name] = np.where(image_masks[name] < 255, 1, 0)\n",
    "    image_attributes.add(name.split(\"_\")[-1])"
   ]
  },
  {
   "cell_type": "code",
   "execution_count": null,
   "metadata": {},
   "outputs": [],
   "source": [
    "print(image_masks[\"83990_no_background\"])\n",
    "plt.imshow(image_masks[\"83990_no_background\"])"
   ]
  },
  {
   "cell_type": "code",
   "execution_count": null,
   "metadata": {},
   "outputs": [],
   "source": [
    "results = sqlite3.connect(DB_FILE)"
   ]
  },
  {
   "cell_type": "code",
   "execution_count": null,
   "metadata": {},
   "outputs": [],
   "source": [
    "users = pd.read_sql_query(\"SELECT * FROM user;\", results)\n",
    "passwords = pd.read_sql_query(\"SELECT * FROM passwords;\", results)\n",
    "attempts = pd.read_sql_query(\"SELECT * FROM attempts;\", results)"
   ]
  },
  {
   "cell_type": "code",
   "execution_count": null,
   "metadata": {},
   "outputs": [],
   "source": [
    "def extract_images(row):\n",
    "    if not pd.isnull(row[\"password\"]):\n",
    "        points = row[\"password\"].split(\",\")\n",
    "        images = list(set([point.split()[0] for point in points]))\n",
    "        return images + [np.nan] * (2 - len(images))\n",
    "    else:\n",
    "        return [row[\"password\"], row[\"password\"]]"
   ]
  },
  {
   "cell_type": "code",
   "execution_count": null,
   "metadata": {},
   "outputs": [],
   "source": [
    "def extract_types(row):\n",
    "    if not pd.isnull(row[\"image1\"]) and not pd.isnull(row[\"image2\"]):\n",
    "        image1_has_digit = any(map(str.isdigit, row[\"image1\"]))\n",
    "        image2_has_digit = any(map(str.isdigit, row[\"image2\"]))\n",
    "        used_natural = image1_has_digit or image2_has_digit\n",
    "        used_geometric = image1_has_digit is False or image2_has_digit is False\n",
    "        if used_geometric and used_natural:\n",
    "            return \"Both\"\n",
    "        return \"Natural\" if used_natural else \"Geometric\"\n",
    "    elif not pd.isnull(row[\"image1\"]):\n",
    "        image1_has_digit = any(map(str.isdigit, row[\"image1\"]))\n",
    "        return \"Natural\" if image1_has_digit else \"Geometric\"\n",
    "    else:\n",
    "        return np.nan"
   ]
  },
  {
   "cell_type": "code",
   "execution_count": null,
   "metadata": {},
   "outputs": [],
   "source": [
    "def check_points(row):\n",
    "    if not pd.isnull(row[\"password\"]):\n",
    "        attributes = set()\n",
    "        points = row[\"password\"].split(\",\")\n",
    "        points = [tuple(point.split()) for point in points]\n",
    "\n",
    "        for point in points:\n",
    "            image_name = point[0].split(\".\")[0]\n",
    "            for key, value in [(mask_name, image_mask) for mask_name, image_mask in image_masks.items() if image_name in mask_name]:\n",
    "                if value[int(point[1]), int(point[2])] > 0:\n",
    "                    attributes.add(key.split(\"_\")[-1])\n",
    "        \n",
    "        return \", \".join(sorted(attributes)) if attributes else np.nan\n",
    "    else:\n",
    "        return np.nan"
   ]
  },
  {
   "cell_type": "code",
   "execution_count": null,
   "metadata": {},
   "outputs": [],
   "source": [
    "def unique_points(row):\n",
    "    if not pd.isnull(row[\"password\"]):\n",
    "        points = row[\"password\"].split(\",\")\n",
    "        points = [tuple(point.split()) for point in points]\n",
    "\n",
    "        points_dict = {}\n",
    "        for point in points:\n",
    "            image_name = point[0]\n",
    "            if image_name in points_dict:\n",
    "                if not any((abs(int(point[1]) - existing[0]) + abs(int(point[2]) - existing[1])) < SAME_POINT_TOLERANCE for existing in points_dict[image_name]):\n",
    "                    points_dict[image_name].append((int(point[1]), int(point[2])))\n",
    "\n",
    "            else:\n",
    "                points_dict[image_name] = [(int(point[1]), int(point[2]))]\n",
    "\n",
    "        unique_points = 0\n",
    "        for key in points_dict.keys():\n",
    "            unique_points += len(points_dict[key])\n",
    "\n",
    "        return unique_points\n",
    "\n",
    "    else:\n",
    "        return 0"
   ]
  },
  {
   "cell_type": "code",
   "execution_count": null,
   "metadata": {},
   "outputs": [],
   "source": [
    "full_df = pd.merge(users, attempts, on=\"id\", how=\"left\")\n",
    "full_df = pd.merge(full_df, passwords, on=[\"id\", \"r\"], how=\"left\").sort_values(by=[\"username\", \"r\"]).reset_index(drop=True)\n",
    "full_df[\"password_length\"] = full_df.apply(lambda row: row[\"password\"] if pd.isnull(row[\"password\"]) else len(row[\"password\"].split(\",\")), axis=1)\n",
    "full_df[[\"image1\", \"image2\"]] = full_df.apply(lambda row: extract_images(row), axis=1, result_type=\"expand\")\n",
    "full_df[\"image_types\"] = full_df.apply(lambda row: extract_types(row), axis=1)\n",
    "full_df[\"natural_characteristics\"] = full_df.apply(lambda row: check_points(row), axis=1)\n",
    "full_df[\"unique_points\"] = full_df.apply(lambda row: unique_points(row), axis=1)"
   ]
  },
  {
   "cell_type": "code",
   "execution_count": null,
   "metadata": {},
   "outputs": [],
   "source": [
    "print(F\"Number of particiants: {len(full_df['id'].unique().tolist())}\")"
   ]
  },
  {
   "cell_type": "code",
   "execution_count": null,
   "metadata": {},
   "outputs": [],
   "source": [
    "print(F\"Number of passwords: {len(full_df['password'].dropna().tolist())}\")"
   ]
  },
  {
   "cell_type": "code",
   "execution_count": null,
   "metadata": {},
   "outputs": [],
   "source": [
    "print(F\"Average password length: {full_df['password_length'].mean()}\")"
   ]
  },
  {
   "cell_type": "code",
   "execution_count": null,
   "metadata": {},
   "outputs": [],
   "source": [
    "display(HTML(full_df.to_html()))"
   ]
  },
  {
   "cell_type": "code",
   "execution_count": null,
   "metadata": {},
   "outputs": [],
   "source": [
    "not_finished = full_df.loc[~full_df.duplicated(\"username\", keep=False), \"id\"].unique()\n",
    "print(F\"Percent of people that did not complete the survey: {len(not_finished)}/{len(full_df['username'].unique().tolist())} = {len(not_finished) / len(full_df['username'].unique().tolist())}\")"
   ]
  },
  {
   "cell_type": "code",
   "execution_count": null,
   "metadata": {},
   "outputs": [],
   "source": [
    "r_grouped = full_df.groupby(\"r\")"
   ]
  },
  {
   "cell_type": "code",
   "execution_count": null,
   "metadata": {},
   "outputs": [],
   "source": [
    "average_success = r_grouped.apply(lambda df: pd.Series({\"Sample Size\": len(df.index),\n",
    "                                                        \"Success Rate\": df[\"successes\"].sum() / df[\"attempts\"].sum(),\n",
    "                                                        \"Average Attemps\": df[\"attempts\"].mean(),\n",
    "                                                        \"Passwords Made\": df[\"successes\"].sum()}))\n",
    "display(HTML(average_success.to_html()))\n",
    "plt.figure()\n",
    "average_success.plot(y=\"Success Rate\", use_index=True)\n",
    "plt.title(\"Success Rate of Different Radial Distances\")\n",
    "plt.show()"
   ]
  },
  {
   "cell_type": "code",
   "execution_count": null,
   "metadata": {},
   "outputs": [],
   "source": [
    "made_password_r_group = full_df.loc[full_df[\"successes\"] != 0].groupby(\"r\")"
   ]
  },
  {
   "cell_type": "code",
   "execution_count": null,
   "metadata": {},
   "outputs": [],
   "source": [
    "average_success_of_successful = made_password_r_group.apply(lambda df: pd.Series({\"Sample Size\": len(df.index),\n",
    "                                                        \"Success Rate\": df[\"successes\"].sum() / df[\"attempts\"].sum(),\n",
    "                                                        \"Average Attempts\": df[\"attempts\"].mean(),\n",
    "                                                        \"Passwords Made\": df[\"successes\"].sum()}))\n",
    "display(HTML(average_success_of_successful.to_html()))\n",
    "plt.figure()\n",
    "average_success_of_successful.plot(y=\"Success Rate\", use_index=True)\n",
    "plt.title(\"Success Rate from Successful of Different Radial Distances\")\n",
    "plt.show()"
   ]
  },
  {
   "cell_type": "code",
   "execution_count": null,
   "metadata": {},
   "outputs": [],
   "source": [
    "one_image = len(full_df.loc[(~pd.isnull(full_df[\"image1\"])) & (pd.isnull(full_df[\"image2\"]))].index)\n",
    "two_images = len(full_df.loc[(~pd.isnull(full_df[\"image1\"])) & (~pd.isnull(full_df[\"image2\"]))].index)\n",
    "\n",
    "plt.figure()\n",
    "plt.bar([\"One Image\", \"Two Images\"], [one_image, two_images])\n",
    "plt.title(\"Number of Images Actually Utilized\")\n",
    "plt.text(0, one_image / 2, F\"{one_image}\")\n",
    "plt.text(1, two_images / 2, F\"{two_images}\")\n",
    "plt.show()"
   ]
  },
  {
   "cell_type": "code",
   "execution_count": null,
   "metadata": {},
   "outputs": [],
   "source": [
    "just_geometric = len(full_df.loc[full_df[\"image_types\"] == \"Geometric\"].index)\n",
    "just_natural = len(full_df.loc[full_df[\"image_types\"] == \"Natural\"].index)\n",
    "both_types = len(full_df.loc[full_df[\"image_types\"] == \"Both\"].index)\n",
    "\n",
    "plt.figure()\n",
    "plt.bar([\"Just Geometric\", \"Just Natural\", \"Both Image Types\"], [just_geometric, just_natural, both_types])\n",
    "plt.title(\"Image Types Used\")\n",
    "plt.text(0, just_geometric / 2, F\"{just_geometric}\")\n",
    "plt.text(1, just_natural / 2, F\"{just_natural}\")\n",
    "plt.text(2, both_types / 2, F\"{both_types}\")\n",
    "plt.show()"
   ]
  },
  {
   "cell_type": "code",
   "execution_count": null,
   "metadata": {},
   "outputs": [],
   "source": [
    "group_r_image_type = full_df.groupby(by=[\"r\", \"image_types\"])"
   ]
  },
  {
   "cell_type": "code",
   "execution_count": null,
   "metadata": {},
   "outputs": [],
   "source": [
    "average_success_by_type = group_r_image_type.apply(lambda df: pd.Series({\"Sample Size\": len(df.index),\n",
    "                                                        \"Success Rate\": df[\"successes\"].sum() / df[\"attempts\"].sum(),\n",
    "                                                        \"Average Attempts\": df[\"attempts\"].mean(),\n",
    "                                                        \"Passwords Made\": df[\"successes\"].sum()}))\n",
    "\n",
    "print(average_success_by_type.sort_index())"
   ]
  },
  {
   "cell_type": "code",
   "execution_count": null,
   "metadata": {},
   "outputs": [],
   "source": [
    "masked_names = [name for name in image_masks.keys()]"
   ]
  },
  {
   "cell_type": "code",
   "execution_count": null,
   "metadata": {},
   "outputs": [],
   "source": [
    "for background_mask in [mask for mask in masked_names if \"background\" in mask]:\n",
    "    image_name = background_mask.split(\"_\")[0]\n",
    "    for image_mask in [mask for mask in masked_names if image_name in mask and not \"background\" in mask]:\n",
    "        image_masks[background_mask] = np.where(image_masks[image_mask] > 0, 0, image_masks[background_mask])"
   ]
  },
  {
   "cell_type": "code",
   "execution_count": null,
   "metadata": {},
   "outputs": [],
   "source": [
    "plt.imshow(image_masks[\"83990_no_background\"])\n",
    "print(image_masks[\"83990_no_background\"])"
   ]
  },
  {
   "cell_type": "code",
   "execution_count": null,
   "metadata": {},
   "outputs": [],
   "source": [
    "image_attribute_counts = {}\n",
    "for attribute in image_attributes:\n",
    "    image_attribute_counts[attribute.title()] = len(full_df.loc[full_df[\"natural_characteristics\"].str.contains(attribute, na=False, regex=False)].index)\n",
    "\n",
    "image_attribute_counts[\"Total Natural Image Passwords\"] = len(full_df.loc[(full_df[\"image_types\"] == \"Both\") | (full_df[\"image_types\"] == \"Natural\")].index)"
   ]
  },
  {
   "cell_type": "code",
   "execution_count": null,
   "metadata": {},
   "outputs": [],
   "source": [
    "plt.figure()\n",
    "plt.bar(image_attribute_counts.keys(), image_attribute_counts.values())\n",
    "plt.title(\"Attributes in Natural Images\")\n",
    "plt.xticks(rotation=15)\n",
    "plt.show()"
   ]
  },
  {
   "cell_type": "code",
   "execution_count": null,
   "metadata": {},
   "outputs": [],
   "source": [
    "length_group = full_df.groupby(\"password_length\")"
   ]
  },
  {
   "cell_type": "code",
   "execution_count": null,
   "metadata": {},
   "outputs": [],
   "source": [
    "average_unique_points = length_group.apply(lambda df: pd.Series({\"Sample Size\": len(df.index),\n",
    "                                                        \"Average Unique Points\": df[\"unique_points\"].mean(),\n",
    "                                                        \"Standard Deviation of Unique Points\": df[\"unique_points\"].std(),\n",
    "                                                        \"Max Unique Points\": df[\"unique_points\"].max(),\n",
    "                                                        \"Min Unique Points\": df[\"unique_points\"].min()}))\n",
    "\n",
    "display(HTML(average_unique_points.sort_index().to_html()))\n",
    "plt.figure()\n",
    "average_unique_points.plot(y=\"Average Unique Points\", use_index=True)\n",
    "plt.title(\"Number of Unique Points per Password\")\n",
    "plt.xlabel(\"Password Length\")\n",
    "plt.ylabel(\"Unique Points in Password\")\n",
    "plt.show()"
   ]
  }
 ],
 "metadata": {
  "interpreter": {
   "hash": "31f2aee4e71d21fbe5cf8b01ff0e069b9275f58929596ceb00d14d90e3e16cd6"
  },
  "kernelspec": {
   "display_name": "Python 3.8.10 64-bit",
   "language": "python",
   "name": "python3"
  },
  "language_info": {
   "codemirror_mode": {
    "name": "ipython",
    "version": 3
   },
   "file_extension": ".py",
   "mimetype": "text/x-python",
   "name": "python",
   "nbconvert_exporter": "python",
   "pygments_lexer": "ipython3",
   "version": "3.8.10"
  },
  "orig_nbformat": 4
 },
 "nbformat": 4,
 "nbformat_minor": 2
}
